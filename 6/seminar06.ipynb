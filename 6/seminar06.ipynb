{
 "cells": [
  {
   "cell_type": "code",
   "execution_count": null,
   "id": "8f314de2-7a3e-4607-8f4b-aad4dabc83db",
   "metadata": {},
   "outputs": [],
   "source": [
    "%matplotlib inline\n",
    "import numpy as np\n",
    "import matplotlib.pyplot as plt\n",
    "from scipy import stats\n",
    "\n",
    "# use seaborn plotting defaults\n",
    "import seaborn as sns; sns.set()"
   ]
  },
  {
   "cell_type": "markdown",
   "id": "8636b32e-a676-4981-b4c8-80f76605f1be",
   "metadata": {},
   "source": [
    "Сгенерируем данные для задачи классификации"
   ]
  },
  {
   "cell_type": "code",
   "execution_count": null,
   "id": "c6d0faaa-b76a-4d03-b285-0643c0dacf37",
   "metadata": {},
   "outputs": [],
   "source": [
    "from sklearn.datasets import make_blobs\n",
    "X, y = make_blobs(n_samples=50, centers=2,\n",
    "                  random_state=0, \n",
    "                  cluster_std=0.6)\n",
    "plt.scatter(X[:, 0], X[:, 1], c=y, s=50, cmap='autumn');"
   ]
  },
  {
   "cell_type": "markdown",
   "id": "f18b0722-2541-465b-8f1d-4b7f279babc7",
   "metadata": {},
   "source": [
    "В случае линейно разделимой выборки существует бесконечно много классификаторов, решающих задачу без ошибок. Нарисуем несколько разделяющих поверхностей."
   ]
  },
  {
   "cell_type": "code",
   "execution_count": null,
   "id": "7178232d-b8d9-48ed-b048-b88601b75def",
   "metadata": {},
   "outputs": [],
   "source": [
    "xfit = np.linspace(-1, 3.5)\n",
    "plt.scatter(X[:, 0], X[:, 1], c=y, s=50, cmap='autumn')\n",
    "plt.plot([0.6], [2.1], 'x', color='red', markeredgewidth=2, markersize=10)\n",
    "\n",
    "for m, b in [(1, 0.65), (0.5, 1.6), (-0.2, 2.9)]:\n",
    "    plt.plot(xfit, m * xfit + b, '-k')\n",
    "\n",
    "plt.xlim(-1, 3.5);"
   ]
  },
  {
   "cell_type": "markdown",
   "id": "734304cc-5ace-43d3-b380-56eea55a1750",
   "metadata": {},
   "source": [
    "Нарисуем разделяющие поверхности вместе с разделяющими полосами."
   ]
  },
  {
   "cell_type": "code",
   "execution_count": null,
   "id": "e1e1d946-2d83-4231-b4fd-04e779fba132",
   "metadata": {},
   "outputs": [],
   "source": [
    "xfit = np.linspace(-1, 3.5)\n",
    "plt.scatter(X[:, 0], X[:, 1], c=y, s=50, cmap='autumn')\n",
    "\n",
    "for m, b, d in [(1, 0.65, 0.33), (0.5, 1.6, 0.55), (-0.2, 2.9, 0.2)]:\n",
    "    yfit = m * xfit + b\n",
    "    plt.plot(xfit, yfit, '-k')\n",
    "    plt.fill_between(xfit, yfit - d, yfit + d, edgecolor='none',\n",
    "                     color='#AAAAAA', alpha=0.4)\n",
    "\n",
    "plt.xlim(-1, 3.5);"
   ]
  },
  {
   "cell_type": "markdown",
   "id": "a2ed9367-2f3c-4662-b21a-995ccc3a8e6c",
   "metadata": {},
   "source": [
    "Цель метода опорных векторов (support vector machine, SVM) - максимизировать ширину разделяющей полосы. Обучим SVM."
   ]
  },
  {
   "cell_type": "code",
   "execution_count": null,
   "id": "8809e58b-cd7a-4783-a561-5f9e40ee64a0",
   "metadata": {},
   "outputs": [],
   "source": [
    "from sklearn.svm import SVC # \"Support vector classifier\" \n",
    "model = SVC(kernel='linear', C=1)\n",
    "model.fit(X, y)"
   ]
  },
  {
   "cell_type": "markdown",
   "id": "cafc2486-5cbc-42fa-9b06-e2cb5b2f8155",
   "metadata": {},
   "source": [
    "Создадим функцию для визуализации метода."
   ]
  },
  {
   "cell_type": "code",
   "execution_count": null,
   "id": "3bccde5a-7801-4281-9d38-909173fa0f40",
   "metadata": {},
   "outputs": [],
   "source": [
    "def plot_svc_decision_function(model, ax=None, plot_support=True):\n",
    "    \"\"\"Plot the decision function for a 2D SVC\"\"\"\n",
    "    if ax is None:\n",
    "        ax = plt.gca()\n",
    "    xlim = ax.get_xlim()\n",
    "    ylim = ax.get_ylim()\n",
    "    \n",
    "    x = np.linspace(xlim[0], xlim[1], 30)\n",
    "    y = np.linspace(ylim[0], ylim[1], 30)\n",
    "    Y, X = np.meshgrid(y, x)\n",
    "    xy = np.vstack([X.ravel(), Y.ravel()]).T\n",
    "    P = model.decision_function(xy).reshape(X.shape)\n",
    "    \n",
    "    ax.contour(X, Y, P, colors='k',\n",
    "               levels=[-1, 0, 1], alpha=0.5,\n",
    "               linestyles=['--', '-', '--'])\n",
    "    \n",
    "    if plot_support:\n",
    "        ax.scatter(model.support_vectors_[:, 0],\n",
    "                   model.support_vectors_[:, 1],\n",
    "                   s=300, linewidth=1, facecolors='none');\n",
    "    ax.set_xlim(xlim)\n",
    "    ax.set_ylim(ylim)"
   ]
  },
  {
   "cell_type": "code",
   "execution_count": null,
   "id": "7ef8ab5b-5fc8-479e-9c43-6de69cf713a2",
   "metadata": {},
   "outputs": [],
   "source": [
    "plt.scatter(X[:, 0], X[:, 1], c=y, s=50, cmap='autumn')\n",
    "plot_svc_decision_function(model);"
   ]
  },
  {
   "cell_type": "code",
   "execution_count": null,
   "id": "4ac5ec88-4211-4224-b115-2bc081745da8",
   "metadata": {},
   "outputs": [],
   "source": [
    "model.support_vectors_"
   ]
  },
  {
   "cell_type": "markdown",
   "id": "f317aca0-74da-4386-a9b9-d47a6b7310ec",
   "metadata": {},
   "source": [
    "Для SVM важны только позиции опорных векторов!\n",
    "\n",
    "Например, обучим метод на первых 60 точках, а затем на первых 120 точках."
   ]
  },
  {
   "cell_type": "code",
   "execution_count": null,
   "id": "b004e25e-f6c6-4e34-a64a-8b1a5072468c",
   "metadata": {},
   "outputs": [],
   "source": [
    "def plot_svm(N=10, ax=None):\n",
    "    X, y = make_blobs(n_samples=200, centers=2,\n",
    "                      random_state=0, cluster_std=0.60)\n",
    "    X = X[:N]\n",
    "    y = y[:N]\n",
    "    model = SVC(kernel='linear', C=1E10)\n",
    "    model.fit(X, y)\n",
    "    \n",
    "    ax = ax or plt.gca()\n",
    "    ax.scatter(X[:, 0], X[:, 1], c=y, s=50, cmap='autumn')\n",
    "    ax.set_xlim(-1, 4)\n",
    "    ax.set_ylim(-1, 6)\n",
    "    plot_svc_decision_function(model, ax)\n",
    "\n",
    "fig, ax = plt.subplots(1, 2, figsize=(16, 6))\n",
    "fig.subplots_adjust(left=0.0625, right=0.95, wspace=0.1)\n",
    "for axi, N in zip(ax, [60, 120]):\n",
    "    plot_svm(N, axi)\n",
    "    axi.set_title('N = {0}'.format(N))"
   ]
  },
  {
   "cell_type": "markdown",
   "id": "a5f816d5-a49e-4fbd-9b51-e5f83e210eee",
   "metadata": {},
   "source": [
    "Интерактивная визуализация SVM"
   ]
  },
  {
   "cell_type": "code",
   "execution_count": null,
   "id": "8c5e61c7-0570-483d-b2f6-f387dec72569",
   "metadata": {},
   "outputs": [],
   "source": [
    "from ipywidgets import interact, fixed\n",
    "interact(plot_svm, N=[10, 50, 100, 200, 1000], ax=fixed(None));"
   ]
  },
  {
   "cell_type": "markdown",
   "id": "8eff2e16-db24-4159-a85b-b8d0931c9d86",
   "metadata": {},
   "source": [
    "## Неразделимый случай\n",
    "\n",
    "С помощью функции make_blobs сгенерируем выборку из 100 элементов для задачи двухклассовой классификации с частично пересекающимися классами."
   ]
  },
  {
   "cell_type": "code",
   "execution_count": null,
   "id": "211729f0-bd18-48a5-8f58-ab5a6121c0ef",
   "metadata": {},
   "outputs": [],
   "source": [
    "X, y = make_blobs(n_samples=100, centers=2,\n",
    "                  random_state=0, \n",
    "                  cluster_std=1.5)\n",
    "plt.scatter(X[:, 0], X[:, 1], c=y, s=50, cmap='autumn');"
   ]
  },
  {
   "cell_type": "markdown",
   "id": "9b6683c0-b103-408c-81ac-97dd7df8a58e",
   "metadata": {},
   "source": [
    "Посмотрим на результат работы SVM при различных C на этих данных.\n",
    "\n",
    "Обучим SVC с линейным ядром (kernel='linear') и значением параметра C равным C (переменная в цикле) на этих данных."
   ]
  },
  {
   "cell_type": "code",
   "execution_count": null,
   "id": "4091c87f-7833-4ff6-af91-246bfe29acbc",
   "metadata": {},
   "outputs": [],
   "source": [
    "from sklearn.metrics import accuracy_score\n",
    "\n",
    "fig, ax = plt.subplots(1, 3, figsize=(16, 6))\n",
    "fig.subplots_adjust(left=0.0625, right=0.95, wspace=0.1)\n",
    "\n",
    "for axi, C in zip(ax, [10000.0, 1., 0.001]):\n",
    "    model = SVC(kernel='linear', C=C)\n",
    "    model.fit(X, y)\n",
    "\n",
    "    prediction = model.predict(X)\n",
    "    print(\"accuracy = \", accuracy_score(prediction, y))\n",
    "    \n",
    "    axi.scatter(X[:, 0], X[:, 1], c=y, s=50, cmap='autumn')\n",
    "    plot_svc_decision_function(model, axi)\n",
    "    axi.scatter(model.support_vectors_[:, 0],\n",
    "                model.support_vectors_[:, 1],\n",
    "                s=300, lw=1, facecolors='none')\n",
    "    axi.set_title('C = {0:.1f}'.format(C), size=14)"
   ]
  },
  {
   "cell_type": "markdown",
   "id": "68a17156-8c85-41be-9b55-cb93ccc1eb60",
   "metadata": {},
   "source": [
    "## Задача распознавания лиц\n",
    "\n",
    "Решим задачу классификации лиц (задача многоклассовой классификации) с помощью метода опорных векторов."
   ]
  },
  {
   "cell_type": "code",
   "execution_count": null,
   "id": "f246c40f-c6da-437b-8a40-4af2c8e37800",
   "metadata": {},
   "outputs": [],
   "source": [
    "from sklearn.datasets import fetch_lfw_people\n",
    "faces = fetch_lfw_people(min_faces_per_person=60)\n",
    "print(faces.target_names)\n",
    "print(faces.images.shape)"
   ]
  },
  {
   "cell_type": "markdown",
   "id": "1d7d627c-4253-4295-9a0a-bb8ac15fdce0",
   "metadata": {},
   "source": [
    "Нарисуем несколько лиц из датасета"
   ]
  },
  {
   "cell_type": "code",
   "execution_count": null,
   "id": "4e659fe4-c0a9-42b7-8bb5-ea51c06d680e",
   "metadata": {},
   "outputs": [],
   "source": [
    "fig, ax = plt.subplots(3, 5, figsize=(9,9))\n",
    "for i, axi in enumerate(ax.flat):\n",
    "    axi.imshow(faces.images[i], cmap='bone')\n",
    "    axi.set(xticks=[], yticks=[],\n",
    "            xlabel=faces.target_names[faces.target[i]])"
   ]
  },
  {
   "cell_type": "markdown",
   "id": "abf7a58e-8db9-4fc1-b3eb-d78fb9b5b877",
   "metadata": {},
   "source": [
    "Каждое изображение имеет размер [62×47] - это примерно 3000 пикселей. Мы можем использовать пиксели как признаки, но давайте понизим размерность пространства признаков.\n",
    "\n",
    "Извлечем 150 самых информативных признаков из данных фотографий методом RandomizedPCA (тот самый метод главных компонент)."
   ]
  },
  {
   "cell_type": "code",
   "execution_count": null,
   "id": "479b60c6-1454-4a32-9ca5-ae2062826808",
   "metadata": {},
   "outputs": [],
   "source": [
    "from sklearn.svm import SVC\n",
    "from sklearn.decomposition import PCA #Principal Components Analysis\n",
    "from sklearn.pipeline import make_pipeline, Pipeline\n",
    "\n",
    "pca = PCA(n_components=150, svd_solver='randomized', whiten=True, random_state=42)"
   ]
  },
  {
   "cell_type": "markdown",
   "id": "42302236-dd55-4072-8a4e-136280cc61d0",
   "metadata": {},
   "source": [
    "Попробуем решить задачу алгоритмом SVM."
   ]
  },
  {
   "cell_type": "code",
   "execution_count": null,
   "id": "da452f94-197c-436f-a057-47db6936e4cc",
   "metadata": {},
   "outputs": [],
   "source": [
    "from sklearn.model_selection import train_test_split\n",
    "Xtrain, Xtest, ytrain, ytest = train_test_split(faces.data, faces.target,\n",
    "                                                random_state=42)"
   ]
  },
  {
   "cell_type": "markdown",
   "id": "85c8ca18-cb82-4147-af72-8c4e0d5a6dc3",
   "metadata": {},
   "source": [
    "Соберем пайплайн из метода опорных векторов + метода главных компонент."
   ]
  },
  {
   "cell_type": "code",
   "execution_count": null,
   "id": "dd71c5d3-e350-4f23-be92-5aa58a297292",
   "metadata": {},
   "outputs": [],
   "source": [
    "svc = SVC(kernel='linear', class_weight='balanced')\n",
    "\n",
    "model_svm = make_pipeline(pca, svc)"
   ]
  },
  {
   "cell_type": "markdown",
   "id": "60aa0b27-effd-49f6-9283-ddd8f5d525bc",
   "metadata": {},
   "source": [
    "Погридсерчим параметр С. \n",
    "\n",
    "Как гридсерчить: нужно собрать сетку параметров (это словарь, где ключи - названия гиперпараметров, а значения - их возможные значения, которые мы перебираем), а потом пихнуть в гридсерч модель, сетку и возможно указать какие-то параметры серча (scoring, cv...).\n",
    "\n",
    "Если гридсерчим пайплайн, то для каждого из шагов пайпа можно указывать параметры, тогда сперва указывается название шага, а потом через двойное нижнее подчеркивание название параметра. "
   ]
  },
  {
   "cell_type": "code",
   "execution_count": null,
   "id": "ff59730f-e895-49d5-88c3-543dbf1bac76",
   "metadata": {},
   "outputs": [],
   "source": [
    "from sklearn.model_selection import GridSearchCV\n",
    "param_grid = {'svc__C': [1, 5, 10, 50]}\n",
    "\n",
    "grid = GridSearchCV(model_svm, param_grid)\n",
    "\n",
    "%time grid.fit(Xtrain, ytrain)\n",
    "\n",
    "print(grid.best_params_)"
   ]
  },
  {
   "cell_type": "code",
   "execution_count": null,
   "id": "609ffdf6-3dbc-4d71-a971-27fe996e3b08",
   "metadata": {},
   "outputs": [],
   "source": [
    "def get_best_model(model, Xtrain, ytrain):\n",
    "    model_pipe = Pipeline([('pca',pca),('model',model)])\n",
    "    \n",
    "    param_grid = {'model__C': [0.01, 0.1, 1, 5, 10]}\n",
    "    \n",
    "    grid = GridSearchCV(model_pipe, param_grid)\n",
    "    \n",
    "    grid.fit(Xtrain, ytrain)\n",
    "    \n",
    "    return grid.best_estimator_"
   ]
  },
  {
   "cell_type": "code",
   "execution_count": null,
   "id": "27581ff6-449e-4224-bd3b-71f4d9a15f8f",
   "metadata": {},
   "outputs": [],
   "source": [
    "from sklearn.linear_model import LogisticRegression\n",
    "\n",
    "model1 = get_best_model(LogisticRegression(class_weight='balanced'), Xtrain, ytrain)"
   ]
  },
  {
   "cell_type": "code",
   "execution_count": null,
   "id": "dd370bb0-9d8b-41f7-9f43-9a595b812770",
   "metadata": {},
   "outputs": [],
   "source": [
    "model2 = get_best_model(SVC(class_weight='balanced', probability=True), Xtrain, ytrain)"
   ]
  },
  {
   "cell_type": "code",
   "execution_count": null,
   "id": "a23bce4f-823c-421f-9f04-a0cc2c3885b3",
   "metadata": {},
   "outputs": [],
   "source": [
    "pred1 = model1.predict(Xtest)\n",
    "\n",
    "accuracy_score(pred1, ytest)"
   ]
  },
  {
   "cell_type": "code",
   "execution_count": null,
   "id": "8e361811-5e5a-40b2-a8ba-ff0bb548f86d",
   "metadata": {},
   "outputs": [],
   "source": [
    "pred2 = model2.predict(Xtest)\n",
    "\n",
    "accuracy_score(pred2, ytest)"
   ]
  },
  {
   "cell_type": "code",
   "execution_count": null,
   "id": "90bbb776-7271-4da8-8e75-a376f7f67365",
   "metadata": {},
   "outputs": [],
   "source": [
    "pred1_probs = model1.predict_proba(Xtest)\n",
    "pred1_probs"
   ]
  },
  {
   "cell_type": "code",
   "execution_count": null,
   "id": "38481c9e-28da-4689-8e51-42e75e2e5276",
   "metadata": {},
   "outputs": [],
   "source": [
    "pred1_probs[0]"
   ]
  },
  {
   "cell_type": "code",
   "execution_count": null,
   "id": "974e0b62-eda4-4de2-a0e0-c37d6896554c",
   "metadata": {},
   "outputs": [],
   "source": [
    "pred2_probs[0]"
   ]
  },
  {
   "cell_type": "code",
   "execution_count": null,
   "id": "b33f3706-bd69-495a-bbd1-0fea2c9b3c4a",
   "metadata": {},
   "outputs": [],
   "source": [
    "pred2_probs = model2.predict_proba(Xtest)\n",
    "pred2_probs"
   ]
  },
  {
   "cell_type": "code",
   "execution_count": null,
   "id": "ea01f569-c63b-4d3d-a3ae-71a67e2c307e",
   "metadata": {},
   "outputs": [],
   "source": [
    "for alpha in np.arange(0.1, 1.1, 0.1):\n",
    "    res = alpha * pred1_probs + (1 - alpha) * pred2_probs\n",
    "\n",
    "    pred = []\n",
    "    for elem in res:\n",
    "        pred.append(np.argmax(elem))\n",
    "    \n",
    "    print('alpha:', alpha, 'score:', accuracy_score(pred, ytest))"
   ]
  },
  {
   "cell_type": "code",
   "execution_count": null,
   "id": "e4eb8926-54ed-4e18-97c8-6d2123fcf98a",
   "metadata": {},
   "outputs": [],
   "source": [
    "lr = LogisticRegression()"
   ]
  },
  {
   "cell_type": "code",
   "execution_count": null,
   "id": "de9ee2a6-30d2-479e-bb0c-778981306832",
   "metadata": {},
   "outputs": [],
   "source": [
    "from sklearn.pipeline import Pipeline\n",
    "\n",
    "model_logreg = Pipeline([('pca', pca), ('logreg', lr)])"
   ]
  },
  {
   "cell_type": "code",
   "execution_count": null,
   "id": "85ec178f-e0dd-4a7e-8571-72dd8b5b2fb1",
   "metadata": {
    "scrolled": true
   },
   "outputs": [],
   "source": [
    "param_grid = {'logreg__C': [0.01, 0.05, 0.1, 0.5, 1, 10],\n",
    "              'logreg__class_weight': [None, 'balanced']}\n",
    "\n",
    "grid = GridSearchCV(model_logreg, param_grid)\n",
    "\n",
    "%time grid.fit(Xtrain, ytrain)\n",
    "\n",
    "print(grid.best_params_)"
   ]
  },
  {
   "cell_type": "code",
   "execution_count": null,
   "id": "c8fed19c-7c3f-4418-9164-0ff7adf6018e",
   "metadata": {},
   "outputs": [],
   "source": [
    "model = grid.best_estimator_\n",
    "\n",
    "yfit = model.predict(Xtest)"
   ]
  },
  {
   "cell_type": "code",
   "execution_count": null,
   "id": "70c7fbbc-7a2d-4a52-8ada-b0f6ff758860",
   "metadata": {},
   "outputs": [],
   "source": [
    "fig, ax = plt.subplots(4, 6, figsize=(9,9))\n",
    "for i, axi in enumerate(ax.flat):\n",
    "    axi.imshow(Xtest[i].reshape(62, 47), cmap='bone')\n",
    "    axi.set(xticks=[], yticks=[])\n",
    "    axi.set_ylabel(faces.target_names[yfit[i]].split()[-1],\n",
    "                   color='black' if yfit[i] == ytest[i] else 'red')\n",
    "fig.suptitle('Predicted Names; Incorrect Labels in Red', size=14);"
   ]
  },
  {
   "cell_type": "markdown",
   "id": "8bd7ab76-3305-4ef6-9299-132c01ff8625",
   "metadata": {},
   "source": [
    "Выведем на экран метрики классификации."
   ]
  },
  {
   "cell_type": "code",
   "execution_count": null,
   "id": "be313bf1-e07c-4926-9e04-cdd83e397f30",
   "metadata": {},
   "outputs": [],
   "source": [
    "from sklearn.metrics import classification_report\n",
    "print(classification_report(ytest, yfit,\n",
    "                            target_names=faces.target_names))"
   ]
  },
  {
   "cell_type": "markdown",
   "id": "3aa7d480-63af-4aab-89d1-99856c00dbc6",
   "metadata": {},
   "source": [
    "Нарисуем матрицу ошибок классификатора."
   ]
  },
  {
   "cell_type": "code",
   "execution_count": null,
   "id": "a2cc5be1-4662-43cd-84c5-2c839c20e9d6",
   "metadata": {},
   "outputs": [],
   "source": [
    "from sklearn.metrics import confusion_matrix\n",
    "\n",
    "plt.figure(figsize=(8,8))\n",
    "mat = confusion_matrix(ytest, yfit)\n",
    "sns.heatmap(mat.T, square=True, annot=True, fmt='d', cbar=False,\n",
    "            xticklabels=faces.target_names,\n",
    "            yticklabels=faces.target_names)\n",
    "plt.xlabel('true label')\n",
    "plt.ylabel('predicted label');"
   ]
  },
  {
   "cell_type": "markdown",
   "id": "1dbde99d-1fc3-44f5-8528-43f592da5812",
   "metadata": {},
   "source": [
    "## Решение нелинейных задач с помощью SVM"
   ]
  },
  {
   "cell_type": "code",
   "execution_count": null,
   "id": "f3c55bd6-f202-498c-b16b-4dddffa1cb4d",
   "metadata": {},
   "outputs": [],
   "source": [
    "from sklearn.datasets import make_circles\n",
    "X, y = make_circles(100, factor=.1, noise=.1)\n",
    "\n",
    "clf = SVC(kernel='linear').fit(X, y)\n",
    "\n",
    "plt.scatter(X[:, 0], X[:, 1], c=y, s=50, cmap='autumn')\n",
    "plot_svc_decision_function(clf, plot_support=False);"
   ]
  },
  {
   "cell_type": "markdown",
   "id": "c7c5f615-d2e6-4c03-8296-e2b2a46d067d",
   "metadata": {},
   "source": [
    "Перейдем в пространство новой (большей) размерности. В данном примере в качестве третьей координаты можно использовать радиальную фунцию:"
   ]
  },
  {
   "cell_type": "code",
   "execution_count": null,
   "id": "d4752552-734c-45dc-9e8a-cafe75572c0a",
   "metadata": {},
   "outputs": [],
   "source": [
    "r = np.exp(-(X ** 2).sum(1))"
   ]
  },
  {
   "cell_type": "code",
   "execution_count": null,
   "id": "b0eaaebf-4fa1-4faa-a95f-6db1df773d24",
   "metadata": {},
   "outputs": [],
   "source": [
    "from mpl_toolkits import mplot3d\n",
    "\n",
    "def plot_3D(elev=30, azim=30, X=X, y=y):\n",
    "    ax = plt.subplot(projection='3d')\n",
    "    ax.scatter3D(X[:, 0], X[:, 1], r, c=y, s=50, cmap='autumn')\n",
    "    ax.view_init(elev=elev, azim=azim)\n",
    "    ax.set_xlabel('x')\n",
    "    ax.set_ylabel('y')\n",
    "    ax.set_zlabel('r')\n",
    "\n",
    "interact(plot_3D, elev=[-90, -45, 0, 45, 90], azip=(-180, 180),\n",
    "         X=fixed(X), y=fixed(y));"
   ]
  },
  {
   "cell_type": "markdown",
   "id": "37568b20-9e4a-42f9-a083-eb9cc49471f7",
   "metadata": {},
   "source": [
    "Видим, что в новом пространстве выборка стала линейно разделимой.\n",
    "\n",
    "Решение исходной задачи в новом пространстве с помощью SVM называется ядровым SVM (Kernel SVM)."
   ]
  },
  {
   "cell_type": "code",
   "execution_count": null,
   "id": "f4e1f9b5-c23d-467d-8312-68c1566a2f86",
   "metadata": {},
   "outputs": [],
   "source": [
    "clf = SVC(kernel='rbf', C=1E6) #rbf = radial basis function\n",
    "clf.fit(X, y)"
   ]
  },
  {
   "cell_type": "code",
   "execution_count": null,
   "id": "fc627b0c-e6a6-42bc-946d-df35932807f1",
   "metadata": {},
   "outputs": [],
   "source": [
    "plt.scatter(X[:, 0], X[:, 1], c=y, s=50, cmap='autumn')\n",
    "plot_svc_decision_function(clf)\n",
    "plt.scatter(clf.support_vectors_[:, 0], clf.support_vectors_[:, 1],\n",
    "            s=300, lw=1, facecolors='none');"
   ]
  },
  {
   "cell_type": "markdown",
   "id": "73969d77-51cf-479b-bc86-2e73b0845de9",
   "metadata": {},
   "source": [
    "### Задание 1.\n",
    "\n",
    "Решите задачу распознавания лиц с помощью SVM с ядром. Попробуйте различные ядра: 'poly', 'rbf', 'sigmoid'.\n",
    "\n",
    "Подберите гиперпараметры по кросс-валидации. \n",
    "\n",
    "SVM с каким ядром дал лучший результат?"
   ]
  },
  {
   "cell_type": "code",
   "execution_count": null,
   "id": "06ba390f-8f11-4f4f-ade5-a6511aeb9a3b",
   "metadata": {},
   "outputs": [],
   "source": [
    "#your code here"
   ]
  },
  {
   "cell_type": "markdown",
   "id": "6c479d44-e7d8-4124-8782-e635bd9bc474",
   "metadata": {},
   "source": [
    "### Задание 2.\n",
    "\n",
    "Решите задачу распознавания лиц с помощью логистической регрессии (она также поддерживает опцию class_weight='balanced'):\n",
    "\n",
    "1) Объявите модель, состоящую из pipeline(pca,logistic regression)\n",
    "\n",
    "2) Подберите по сетке параметр C логистической регрессии (с помощью GridSearch)\n",
    "\n",
    "3) Обучите модель на тренировочных данных и выведите наилучшие параметры модели\n",
    "\n",
    "4) KNN\n",
    "\n",
    "5) Naive Bayes\n",
    "\n",
    "Какое качество показала эта модель?"
   ]
  },
  {
   "cell_type": "code",
   "execution_count": null,
   "id": "5512f3c1-ee03-426e-b8e2-fa52c350a6d0",
   "metadata": {},
   "outputs": [],
   "source": [
    "from sklearn.linear_model import LogisticRegression\n",
    "\n",
    "#your code here\n",
    "\n",
    "lr = ...\n",
    "model = make_pipeline(...)\n",
    "\n",
    "param_grid = ...\n",
    "grid = GridSearchCV(model, param_grid)\n",
    "\n",
    "..."
   ]
  },
  {
   "cell_type": "markdown",
   "id": "0dea8c3a-4c20-4163-8ce7-9331b7467c4d",
   "metadata": {},
   "source": [
    "### Задание 3.\n",
    "\n",
    "Сгенерируйте 100 точек для задачи двухклассовой классификации с помощью датасета make_moons https://scikit-learn.org/stable/modules/generated/sklearn.datasets.make_moons.html.\n",
    "\n",
    "Используйте параметр noise=0.1.\n",
    "\n",
    "Подберите тип ядра в методе SVM и значение параметра C, чтобы добиться (визуально) безошибочной классификации."
   ]
  },
  {
   "cell_type": "code",
   "execution_count": null,
   "id": "3558b0c5-2eec-43ea-8609-9fc783dbe703",
   "metadata": {},
   "outputs": [],
   "source": [
    "from sklearn.datasets import make_moons\n",
    "\n",
    "#your code here"
   ]
  }
 ],
 "metadata": {
  "kernelspec": {
   "display_name": "Python 3 (ipykernel)",
   "language": "python",
   "name": "python3"
  },
  "language_info": {
   "codemirror_mode": {
    "name": "ipython",
    "version": 3
   },
   "file_extension": ".py",
   "mimetype": "text/x-python",
   "name": "python",
   "nbconvert_exporter": "python",
   "pygments_lexer": "ipython3",
   "version": "3.8.10"
  }
 },
 "nbformat": 4,
 "nbformat_minor": 5
}
