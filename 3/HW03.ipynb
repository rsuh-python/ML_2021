{
 "cells": [
  {
   "cell_type": "markdown",
   "id": "72ac0f7f-dfa6-44c2-8066-ea96a260c4c7",
   "metadata": {},
   "source": [
    "**Задание 1**"
   ]
  },
  {
   "cell_type": "markdown",
   "id": "ac4236dc-931e-40a9-a53e-d7620fd4caf9",
   "metadata": {},
   "source": [
    "Поработаем со стандартным бостонским датасетом. "
   ]
  },
  {
   "cell_type": "code",
   "execution_count": null,
   "id": "115f3994-a7de-484f-80a0-bf36ef389aed",
   "metadata": {},
   "outputs": [],
   "source": [
    "from sklearn.datasets import load_boston\n",
    "\n",
    "from sklearn.model_selection import train_test_split\n",
    "from sklearn.linear_model import LinearRegression, Lasso, Ridge\n",
    "from sklearn.preprocessing import StandardScaler, MinMaxScaler\n",
    "from sklearn.metrics import r2_score\n",
    "from sklearn.model_selection import cross_val_score\n",
    "from sklearn.pipeline import Pipeline"
   ]
  },
  {
   "cell_type": "code",
   "execution_count": null,
   "id": "865a3cc2-d49a-4f80-b63b-579d1ccc3cfc",
   "metadata": {},
   "outputs": [],
   "source": [
    "data = load_boston()\n",
    "\n",
    "X = data.data\n",
    "y = data.target\n",
    "\n",
    "Xtrain, Xtest, ytrain, ytest = train_test_split(X, y)"
   ]
  },
  {
   "cell_type": "markdown",
   "id": "aafc60ea-6a1e-4afb-95df-e88ecddec688",
   "metadata": {},
   "source": [
    "Посмотрите, какие результаты дает кросс-валидация при cv=3 для обычной линейной регрессии. Что вы можете сказать о датасете?"
   ]
  },
  {
   "cell_type": "code",
   "execution_count": null,
   "id": "d6cba305-7056-467b-b33f-0940a8d3cb62",
   "metadata": {},
   "outputs": [],
   "source": [
    "# your code here"
   ]
  },
  {
   "cell_type": "markdown",
   "id": "826ec969-5061-474f-9fce-20b5f2119b57",
   "metadata": {},
   "source": [
    "Соберите пайплайн с нормализацией (можно сделать функцию, в которой выбираются скейлер и модель). "
   ]
  },
  {
   "cell_type": "code",
   "execution_count": null,
   "id": "95718bf7-7040-4c02-a7cc-16c81375d6b0",
   "metadata": {},
   "outputs": [],
   "source": [
    "# your code here"
   ]
  },
  {
   "cell_type": "markdown",
   "id": "5bf6d00a-1bd3-4fad-8e41-2137f33f95ba",
   "metadata": {},
   "source": [
    "Попробуйте применить Lasso() и Ridge(). Какие результаты? Если интересно, можете посмотреть веса модели. "
   ]
  },
  {
   "cell_type": "code",
   "execution_count": null,
   "id": "707957d2-c294-462c-bb6c-dce08cce26f5",
   "metadata": {},
   "outputs": [],
   "source": [
    "# your code here"
   ]
  },
  {
   "cell_type": "markdown",
   "id": "b33b01a8-059f-465d-ab48-dbcf851f4637",
   "metadata": {},
   "source": [
    "И у Lasso(), и у Ridge() есть параметр: alpha, который отвечает за силу регуляризации. Попробуйте перебрать разные значения (н-р, от 0.001 до 1000 с любым шагом)."
   ]
  },
  {
   "cell_type": "code",
   "execution_count": null,
   "id": "0351527a-5bcf-4e05-a255-9c7a3f2dd4df",
   "metadata": {},
   "outputs": [],
   "source": [
    "# your code here"
   ]
  },
  {
   "cell_type": "markdown",
   "id": "8131cb75-0937-408e-a4b0-fdd0b63ca86c",
   "metadata": {},
   "source": [
    "В дополнение можете попробовать использовать ElasticNet() - это смесь лассо и риджа. Не забудьте импортировать (оттуда же, откуда и лассо с риджем). "
   ]
  },
  {
   "cell_type": "code",
   "execution_count": null,
   "id": "c7258e61-429b-4203-a668-f2b947e27c70",
   "metadata": {},
   "outputs": [],
   "source": [
    "# your code here"
   ]
  },
  {
   "cell_type": "markdown",
   "id": "2901143a-5ce6-42fe-addb-dc091c635036",
   "metadata": {},
   "source": [
    "**Задание 2**"
   ]
  },
  {
   "cell_type": "markdown",
   "id": "ce2b521a-123b-43d4-8287-74b178709ec5",
   "metadata": {},
   "source": [
    "Обучите модель на датасете diet_data.csv: чувак, который собрал этот датасет, задался целью доказать, что плевать, какую еду он ест, главное - количество калорий (и действительно похудел). В датасете есть целевая переменная: change. "
   ]
  },
  {
   "cell_type": "code",
   "execution_count": null,
   "id": "6490e086-0cc9-4665-bad7-7c5e31f58d9b",
   "metadata": {},
   "outputs": [],
   "source": [
    "# your code here"
   ]
  },
  {
   "cell_type": "markdown",
   "id": "df00d1de-6262-49b0-b410-f3be401d03d1",
   "metadata": {},
   "source": [
    "**Задание 3**"
   ]
  },
  {
   "cell_type": "markdown",
   "id": "ecbb7ec4-d690-4329-a9be-97b848e4dac4",
   "metadata": {},
   "source": [
    "Можете также побаловаться с Life Expectancy Data (обратите внимание, что там у таргета колонка называется с пробелом в конце - возможно, стоит ее переименовать. Во всяком случае, советую вывести data.columns)"
   ]
  },
  {
   "cell_type": "code",
   "execution_count": null,
   "id": "9cc384e2-7cf5-466a-b879-fa5cceb3a9f1",
   "metadata": {},
   "outputs": [],
   "source": [
    "# your code here"
   ]
  }
 ],
 "metadata": {
  "kernelspec": {
   "display_name": "Python 3 (ipykernel)",
   "language": "python",
   "name": "python3"
  },
  "language_info": {
   "codemirror_mode": {
    "name": "ipython",
    "version": 3
   },
   "file_extension": ".py",
   "mimetype": "text/x-python",
   "name": "python",
   "nbconvert_exporter": "python",
   "pygments_lexer": "ipython3",
   "version": "3.8.10"
  }
 },
 "nbformat": 4,
 "nbformat_minor": 5
}
