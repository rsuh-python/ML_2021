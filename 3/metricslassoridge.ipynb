{
 "cells": [
  {
   "cell_type": "markdown",
   "id": "1b11e401-1a9b-46d8-83ec-9b6341ac18a1",
   "metadata": {},
   "source": [
    "Сегодня побалуемся с датасетом, в котором нужно предсказывать цену автомобиля по его параметрам. Посмотрим, как работают Lasso и Ridge, как можно нормализовать данные и как собрать это все в ПАЙПЛАЙН!"
   ]
  },
  {
   "cell_type": "code",
   "execution_count": 1,
   "id": "d370acdb-82a8-42df-bba3-a7b310206ab5",
   "metadata": {},
   "outputs": [
    {
     "name": "stdout",
     "output_type": "stream",
     "text": [
      "Populating the interactive namespace from numpy and matplotlib\n"
     ]
    }
   ],
   "source": [
    "import pandas as pd\n",
    "import matplotlib.pyplot as plt\n",
    "import seaborn as sns\n",
    "from sklearn.model_selection import train_test_split\n",
    "from sklearn.linear_model import LinearRegression, Lasso, Ridge\n",
    "from sklearn.preprocessing import StandardScaler, MinMaxScaler\n",
    "from sklearn.metrics import mean_absolute_error, mean_squared_error, mean_squared_log_error, mean_absolute_percentage_error, r2_score\n",
    "from sklearn.model_selection import cross_val_score\n",
    "from sklearn.pipeline import Pipeline\n",
    "\n",
    "%pylab inline"
   ]
  },
  {
   "cell_type": "code",
   "execution_count": 2,
   "id": "da6d4ff5-db7f-4834-becd-c0519dc8ad2c",
   "metadata": {},
   "outputs": [
    {
     "data": {
      "text/html": [
       "<div>\n",
       "<style scoped>\n",
       "    .dataframe tbody tr th:only-of-type {\n",
       "        vertical-align: middle;\n",
       "    }\n",
       "\n",
       "    .dataframe tbody tr th {\n",
       "        vertical-align: top;\n",
       "    }\n",
       "\n",
       "    .dataframe thead th {\n",
       "        text-align: right;\n",
       "    }\n",
       "</style>\n",
       "<table border=\"1\" class=\"dataframe\">\n",
       "  <thead>\n",
       "    <tr style=\"text-align: right;\">\n",
       "      <th></th>\n",
       "      <th>name</th>\n",
       "      <th>year</th>\n",
       "      <th>selling_price</th>\n",
       "      <th>km_driven</th>\n",
       "      <th>fuel</th>\n",
       "      <th>seller_type</th>\n",
       "      <th>transmission</th>\n",
       "      <th>owner</th>\n",
       "      <th>mileage</th>\n",
       "      <th>engine</th>\n",
       "      <th>max_power</th>\n",
       "      <th>torque</th>\n",
       "      <th>seats</th>\n",
       "    </tr>\n",
       "  </thead>\n",
       "  <tbody>\n",
       "    <tr>\n",
       "      <th>0</th>\n",
       "      <td>Maruti Swift Dzire VDI</td>\n",
       "      <td>2014</td>\n",
       "      <td>450000</td>\n",
       "      <td>145500</td>\n",
       "      <td>Diesel</td>\n",
       "      <td>Individual</td>\n",
       "      <td>Manual</td>\n",
       "      <td>First Owner</td>\n",
       "      <td>23.4 kmpl</td>\n",
       "      <td>1248 CC</td>\n",
       "      <td>74 bhp</td>\n",
       "      <td>190Nm@ 2000rpm</td>\n",
       "      <td>5.0</td>\n",
       "    </tr>\n",
       "    <tr>\n",
       "      <th>1</th>\n",
       "      <td>Skoda Rapid 1.5 TDI Ambition</td>\n",
       "      <td>2014</td>\n",
       "      <td>370000</td>\n",
       "      <td>120000</td>\n",
       "      <td>Diesel</td>\n",
       "      <td>Individual</td>\n",
       "      <td>Manual</td>\n",
       "      <td>Second Owner</td>\n",
       "      <td>21.14 kmpl</td>\n",
       "      <td>1498 CC</td>\n",
       "      <td>103.52 bhp</td>\n",
       "      <td>250Nm@ 1500-2500rpm</td>\n",
       "      <td>5.0</td>\n",
       "    </tr>\n",
       "    <tr>\n",
       "      <th>2</th>\n",
       "      <td>Honda City 2017-2020 EXi</td>\n",
       "      <td>2006</td>\n",
       "      <td>158000</td>\n",
       "      <td>140000</td>\n",
       "      <td>Petrol</td>\n",
       "      <td>Individual</td>\n",
       "      <td>Manual</td>\n",
       "      <td>Third Owner</td>\n",
       "      <td>17.7 kmpl</td>\n",
       "      <td>1497 CC</td>\n",
       "      <td>78 bhp</td>\n",
       "      <td>12.7@ 2,700(kgm@ rpm)</td>\n",
       "      <td>5.0</td>\n",
       "    </tr>\n",
       "    <tr>\n",
       "      <th>3</th>\n",
       "      <td>Hyundai i20 Sportz Diesel</td>\n",
       "      <td>2010</td>\n",
       "      <td>225000</td>\n",
       "      <td>127000</td>\n",
       "      <td>Diesel</td>\n",
       "      <td>Individual</td>\n",
       "      <td>Manual</td>\n",
       "      <td>First Owner</td>\n",
       "      <td>23.0 kmpl</td>\n",
       "      <td>1396 CC</td>\n",
       "      <td>90 bhp</td>\n",
       "      <td>22.4 kgm at 1750-2750rpm</td>\n",
       "      <td>5.0</td>\n",
       "    </tr>\n",
       "    <tr>\n",
       "      <th>4</th>\n",
       "      <td>Maruti Swift VXI BSIII</td>\n",
       "      <td>2007</td>\n",
       "      <td>130000</td>\n",
       "      <td>120000</td>\n",
       "      <td>Petrol</td>\n",
       "      <td>Individual</td>\n",
       "      <td>Manual</td>\n",
       "      <td>First Owner</td>\n",
       "      <td>16.1 kmpl</td>\n",
       "      <td>1298 CC</td>\n",
       "      <td>88.2 bhp</td>\n",
       "      <td>11.5@ 4,500(kgm@ rpm)</td>\n",
       "      <td>5.0</td>\n",
       "    </tr>\n",
       "  </tbody>\n",
       "</table>\n",
       "</div>"
      ],
      "text/plain": [
       "                           name  year  selling_price  km_driven    fuel  \\\n",
       "0        Maruti Swift Dzire VDI  2014         450000     145500  Diesel   \n",
       "1  Skoda Rapid 1.5 TDI Ambition  2014         370000     120000  Diesel   \n",
       "2      Honda City 2017-2020 EXi  2006         158000     140000  Petrol   \n",
       "3     Hyundai i20 Sportz Diesel  2010         225000     127000  Diesel   \n",
       "4        Maruti Swift VXI BSIII  2007         130000     120000  Petrol   \n",
       "\n",
       "  seller_type transmission         owner     mileage   engine   max_power  \\\n",
       "0  Individual       Manual   First Owner   23.4 kmpl  1248 CC      74 bhp   \n",
       "1  Individual       Manual  Second Owner  21.14 kmpl  1498 CC  103.52 bhp   \n",
       "2  Individual       Manual   Third Owner   17.7 kmpl  1497 CC      78 bhp   \n",
       "3  Individual       Manual   First Owner   23.0 kmpl  1396 CC      90 bhp   \n",
       "4  Individual       Manual   First Owner   16.1 kmpl  1298 CC    88.2 bhp   \n",
       "\n",
       "                     torque  seats  \n",
       "0            190Nm@ 2000rpm    5.0  \n",
       "1       250Nm@ 1500-2500rpm    5.0  \n",
       "2     12.7@ 2,700(kgm@ rpm)    5.0  \n",
       "3  22.4 kgm at 1750-2750rpm    5.0  \n",
       "4     11.5@ 4,500(kgm@ rpm)    5.0  "
      ]
     },
     "execution_count": 2,
     "metadata": {},
     "output_type": "execute_result"
    }
   ],
   "source": [
    "data = pd.read_csv('Car details v3.csv')\n",
    "data.head()"
   ]
  },
  {
   "cell_type": "code",
   "execution_count": 3,
   "id": "2481851f-f7df-4c13-bad2-8cc97dbb7232",
   "metadata": {},
   "outputs": [
    {
     "data": {
      "text/plain": [
       "name              object\n",
       "year               int64\n",
       "selling_price      int64\n",
       "km_driven          int64\n",
       "fuel              object\n",
       "seller_type       object\n",
       "transmission      object\n",
       "owner             object\n",
       "mileage           object\n",
       "engine            object\n",
       "max_power         object\n",
       "torque            object\n",
       "seats            float64\n",
       "dtype: object"
      ]
     },
     "execution_count": 3,
     "metadata": {},
     "output_type": "execute_result"
    }
   ],
   "source": [
    "data.dtypes"
   ]
  },
  {
   "cell_type": "markdown",
   "id": "2dc6d784-939c-4f08-a119-87dd69b8552e",
   "metadata": {},
   "source": [
    "Окей, видим, что у нас не так много числовых фич, зато часть строчных можно превратить в числовые. Но сперва надо проверить, есть ли у нас наны, и дропнуть их. "
   ]
  },
  {
   "cell_type": "code",
   "execution_count": null,
   "id": "0fb54cd2-e26f-47d3-8e7e-e97277dc279f",
   "metadata": {},
   "outputs": [],
   "source": [
    "# your code here"
   ]
  },
  {
   "cell_type": "markdown",
   "id": "d6a5f193-5a3b-4c07-ba17-b03c75b8c653",
   "metadata": {},
   "source": [
    "Посмотрели? Дропнем и сравним, сколько у нас осталось данных (сперва посмотрите длину целого датасета)"
   ]
  },
  {
   "cell_type": "code",
   "execution_count": null,
   "id": "0a438294-13d8-4d2c-ab90-0772cf69d3e7",
   "metadata": {},
   "outputs": [],
   "source": [
    "# your code here"
   ]
  },
  {
   "cell_type": "markdown",
   "id": "5935592f-a460-48a8-993b-db0cca177199",
   "metadata": {},
   "source": [
    "Теперь можем что-то сделать с engine и maxpower: кажется, что у них достаточно отрезать единицы измерения"
   ]
  },
  {
   "cell_type": "code",
   "execution_count": 5,
   "id": "1f632be6-d926-4482-ba20-e10febf79f52",
   "metadata": {},
   "outputs": [
    {
     "data": {
      "text/html": [
       "<div>\n",
       "<style scoped>\n",
       "    .dataframe tbody tr th:only-of-type {\n",
       "        vertical-align: middle;\n",
       "    }\n",
       "\n",
       "    .dataframe tbody tr th {\n",
       "        vertical-align: top;\n",
       "    }\n",
       "\n",
       "    .dataframe thead th {\n",
       "        text-align: right;\n",
       "    }\n",
       "</style>\n",
       "<table border=\"1\" class=\"dataframe\">\n",
       "  <thead>\n",
       "    <tr style=\"text-align: right;\">\n",
       "      <th></th>\n",
       "      <th>name</th>\n",
       "      <th>year</th>\n",
       "      <th>selling_price</th>\n",
       "      <th>km_driven</th>\n",
       "      <th>fuel</th>\n",
       "      <th>seller_type</th>\n",
       "      <th>transmission</th>\n",
       "      <th>owner</th>\n",
       "      <th>mileage</th>\n",
       "      <th>engine</th>\n",
       "      <th>max_power</th>\n",
       "      <th>torque</th>\n",
       "      <th>seats</th>\n",
       "    </tr>\n",
       "  </thead>\n",
       "  <tbody>\n",
       "    <tr>\n",
       "      <th>0</th>\n",
       "      <td>Maruti Swift Dzire VDI</td>\n",
       "      <td>2014</td>\n",
       "      <td>450000</td>\n",
       "      <td>145500</td>\n",
       "      <td>Diesel</td>\n",
       "      <td>Individual</td>\n",
       "      <td>Manual</td>\n",
       "      <td>First Owner</td>\n",
       "      <td>23.4 kmpl</td>\n",
       "      <td>1248.0</td>\n",
       "      <td>74.00</td>\n",
       "      <td>190Nm@ 2000rpm</td>\n",
       "      <td>5.0</td>\n",
       "    </tr>\n",
       "    <tr>\n",
       "      <th>1</th>\n",
       "      <td>Skoda Rapid 1.5 TDI Ambition</td>\n",
       "      <td>2014</td>\n",
       "      <td>370000</td>\n",
       "      <td>120000</td>\n",
       "      <td>Diesel</td>\n",
       "      <td>Individual</td>\n",
       "      <td>Manual</td>\n",
       "      <td>Second Owner</td>\n",
       "      <td>21.14 kmpl</td>\n",
       "      <td>1498.0</td>\n",
       "      <td>103.52</td>\n",
       "      <td>250Nm@ 1500-2500rpm</td>\n",
       "      <td>5.0</td>\n",
       "    </tr>\n",
       "    <tr>\n",
       "      <th>2</th>\n",
       "      <td>Honda City 2017-2020 EXi</td>\n",
       "      <td>2006</td>\n",
       "      <td>158000</td>\n",
       "      <td>140000</td>\n",
       "      <td>Petrol</td>\n",
       "      <td>Individual</td>\n",
       "      <td>Manual</td>\n",
       "      <td>Third Owner</td>\n",
       "      <td>17.7 kmpl</td>\n",
       "      <td>1497.0</td>\n",
       "      <td>78.00</td>\n",
       "      <td>12.7@ 2,700(kgm@ rpm)</td>\n",
       "      <td>5.0</td>\n",
       "    </tr>\n",
       "    <tr>\n",
       "      <th>3</th>\n",
       "      <td>Hyundai i20 Sportz Diesel</td>\n",
       "      <td>2010</td>\n",
       "      <td>225000</td>\n",
       "      <td>127000</td>\n",
       "      <td>Diesel</td>\n",
       "      <td>Individual</td>\n",
       "      <td>Manual</td>\n",
       "      <td>First Owner</td>\n",
       "      <td>23.0 kmpl</td>\n",
       "      <td>1396.0</td>\n",
       "      <td>90.00</td>\n",
       "      <td>22.4 kgm at 1750-2750rpm</td>\n",
       "      <td>5.0</td>\n",
       "    </tr>\n",
       "    <tr>\n",
       "      <th>4</th>\n",
       "      <td>Maruti Swift VXI BSIII</td>\n",
       "      <td>2007</td>\n",
       "      <td>130000</td>\n",
       "      <td>120000</td>\n",
       "      <td>Petrol</td>\n",
       "      <td>Individual</td>\n",
       "      <td>Manual</td>\n",
       "      <td>First Owner</td>\n",
       "      <td>16.1 kmpl</td>\n",
       "      <td>1298.0</td>\n",
       "      <td>88.20</td>\n",
       "      <td>11.5@ 4,500(kgm@ rpm)</td>\n",
       "      <td>5.0</td>\n",
       "    </tr>\n",
       "  </tbody>\n",
       "</table>\n",
       "</div>"
      ],
      "text/plain": [
       "                           name  year  selling_price  km_driven    fuel  \\\n",
       "0        Maruti Swift Dzire VDI  2014         450000     145500  Diesel   \n",
       "1  Skoda Rapid 1.5 TDI Ambition  2014         370000     120000  Diesel   \n",
       "2      Honda City 2017-2020 EXi  2006         158000     140000  Petrol   \n",
       "3     Hyundai i20 Sportz Diesel  2010         225000     127000  Diesel   \n",
       "4        Maruti Swift VXI BSIII  2007         130000     120000  Petrol   \n",
       "\n",
       "  seller_type transmission         owner     mileage  engine  max_power  \\\n",
       "0  Individual       Manual   First Owner   23.4 kmpl  1248.0      74.00   \n",
       "1  Individual       Manual  Second Owner  21.14 kmpl  1498.0     103.52   \n",
       "2  Individual       Manual   Third Owner   17.7 kmpl  1497.0      78.00   \n",
       "3  Individual       Manual   First Owner   23.0 kmpl  1396.0      90.00   \n",
       "4  Individual       Manual   First Owner   16.1 kmpl  1298.0      88.20   \n",
       "\n",
       "                     torque  seats  \n",
       "0            190Nm@ 2000rpm    5.0  \n",
       "1       250Nm@ 1500-2500rpm    5.0  \n",
       "2     12.7@ 2,700(kgm@ rpm)    5.0  \n",
       "3  22.4 kgm at 1750-2750rpm    5.0  \n",
       "4     11.5@ 4,500(kgm@ rpm)    5.0  "
      ]
     },
     "execution_count": 5,
     "metadata": {},
     "output_type": "execute_result"
    }
   ],
   "source": [
    "data['engine'] = data['engine'].apply(lambda s: float(s[:-3]))\n",
    "data['max_power'] = data['max_power'].apply(lambda s: float(s[:-4]))\n",
    "data.head()"
   ]
  },
  {
   "cell_type": "markdown",
   "id": "35949e64-de18-45ec-b892-76f8948b5b4b",
   "metadata": {},
   "source": [
    "Отлично. Но это еще не все, что можно сделать. (Заметка: mileage лучше оставить, там какие-то разные единицы измерения)\n",
    "\n",
    "Можем позырить, что у нас в transmission, seller_type и fuel."
   ]
  },
  {
   "cell_type": "code",
   "execution_count": 6,
   "id": "5e3e1ee3-424c-4517-bbb2-380b0a4817cd",
   "metadata": {},
   "outputs": [
    {
     "name": "stdout",
     "output_type": "stream",
     "text": [
      "['Diesel' 'Petrol' 'LPG' 'CNG']\n",
      "['Manual' 'Automatic']\n",
      "['Individual' 'Dealer' 'Trustmark Dealer']\n"
     ]
    }
   ],
   "source": [
    "print(data['fuel'].unique())\n",
    "print(data['transmission'].unique())\n",
    "print(data['seller_type'].unique())"
   ]
  },
  {
   "cell_type": "markdown",
   "id": "65a82330-024c-49e9-a275-40575c178a8c",
   "metadata": {},
   "source": [
    "Кажется, заменить transmission на циферки - нет ничего легче. А вот с seller_type и fuel понадобится one hot encoding (а вы знаете, что это такое?)"
   ]
  },
  {
   "cell_type": "code",
   "execution_count": null,
   "id": "75f205f0-2f62-4366-ba02-ce83ad326d34",
   "metadata": {},
   "outputs": [],
   "source": [
    "# замените transmission"
   ]
  },
  {
   "cell_type": "code",
   "execution_count": 8,
   "id": "941b8ffa-13da-45c0-9fb5-cea4212788f0",
   "metadata": {},
   "outputs": [
    {
     "data": {
      "text/html": [
       "<div>\n",
       "<style scoped>\n",
       "    .dataframe tbody tr th:only-of-type {\n",
       "        vertical-align: middle;\n",
       "    }\n",
       "\n",
       "    .dataframe tbody tr th {\n",
       "        vertical-align: top;\n",
       "    }\n",
       "\n",
       "    .dataframe thead th {\n",
       "        text-align: right;\n",
       "    }\n",
       "</style>\n",
       "<table border=\"1\" class=\"dataframe\">\n",
       "  <thead>\n",
       "    <tr style=\"text-align: right;\">\n",
       "      <th></th>\n",
       "      <th>name</th>\n",
       "      <th>year</th>\n",
       "      <th>selling_price</th>\n",
       "      <th>km_driven</th>\n",
       "      <th>transmission</th>\n",
       "      <th>owner</th>\n",
       "      <th>mileage</th>\n",
       "      <th>engine</th>\n",
       "      <th>max_power</th>\n",
       "      <th>torque</th>\n",
       "      <th>seats</th>\n",
       "      <th>seller_type_Individual</th>\n",
       "      <th>seller_type_Trustmark Dealer</th>\n",
       "      <th>fuel_Diesel</th>\n",
       "      <th>fuel_LPG</th>\n",
       "      <th>fuel_Petrol</th>\n",
       "    </tr>\n",
       "  </thead>\n",
       "  <tbody>\n",
       "    <tr>\n",
       "      <th>0</th>\n",
       "      <td>Maruti Swift Dzire VDI</td>\n",
       "      <td>2014</td>\n",
       "      <td>450000</td>\n",
       "      <td>145500</td>\n",
       "      <td>1</td>\n",
       "      <td>First Owner</td>\n",
       "      <td>23.4 kmpl</td>\n",
       "      <td>1248.0</td>\n",
       "      <td>74.00</td>\n",
       "      <td>190Nm@ 2000rpm</td>\n",
       "      <td>5.0</td>\n",
       "      <td>1</td>\n",
       "      <td>0</td>\n",
       "      <td>1</td>\n",
       "      <td>0</td>\n",
       "      <td>0</td>\n",
       "    </tr>\n",
       "    <tr>\n",
       "      <th>1</th>\n",
       "      <td>Skoda Rapid 1.5 TDI Ambition</td>\n",
       "      <td>2014</td>\n",
       "      <td>370000</td>\n",
       "      <td>120000</td>\n",
       "      <td>1</td>\n",
       "      <td>Second Owner</td>\n",
       "      <td>21.14 kmpl</td>\n",
       "      <td>1498.0</td>\n",
       "      <td>103.52</td>\n",
       "      <td>250Nm@ 1500-2500rpm</td>\n",
       "      <td>5.0</td>\n",
       "      <td>1</td>\n",
       "      <td>0</td>\n",
       "      <td>1</td>\n",
       "      <td>0</td>\n",
       "      <td>0</td>\n",
       "    </tr>\n",
       "    <tr>\n",
       "      <th>2</th>\n",
       "      <td>Honda City 2017-2020 EXi</td>\n",
       "      <td>2006</td>\n",
       "      <td>158000</td>\n",
       "      <td>140000</td>\n",
       "      <td>1</td>\n",
       "      <td>Third Owner</td>\n",
       "      <td>17.7 kmpl</td>\n",
       "      <td>1497.0</td>\n",
       "      <td>78.00</td>\n",
       "      <td>12.7@ 2,700(kgm@ rpm)</td>\n",
       "      <td>5.0</td>\n",
       "      <td>1</td>\n",
       "      <td>0</td>\n",
       "      <td>0</td>\n",
       "      <td>0</td>\n",
       "      <td>1</td>\n",
       "    </tr>\n",
       "    <tr>\n",
       "      <th>3</th>\n",
       "      <td>Hyundai i20 Sportz Diesel</td>\n",
       "      <td>2010</td>\n",
       "      <td>225000</td>\n",
       "      <td>127000</td>\n",
       "      <td>1</td>\n",
       "      <td>First Owner</td>\n",
       "      <td>23.0 kmpl</td>\n",
       "      <td>1396.0</td>\n",
       "      <td>90.00</td>\n",
       "      <td>22.4 kgm at 1750-2750rpm</td>\n",
       "      <td>5.0</td>\n",
       "      <td>1</td>\n",
       "      <td>0</td>\n",
       "      <td>1</td>\n",
       "      <td>0</td>\n",
       "      <td>0</td>\n",
       "    </tr>\n",
       "    <tr>\n",
       "      <th>4</th>\n",
       "      <td>Maruti Swift VXI BSIII</td>\n",
       "      <td>2007</td>\n",
       "      <td>130000</td>\n",
       "      <td>120000</td>\n",
       "      <td>1</td>\n",
       "      <td>First Owner</td>\n",
       "      <td>16.1 kmpl</td>\n",
       "      <td>1298.0</td>\n",
       "      <td>88.20</td>\n",
       "      <td>11.5@ 4,500(kgm@ rpm)</td>\n",
       "      <td>5.0</td>\n",
       "      <td>1</td>\n",
       "      <td>0</td>\n",
       "      <td>0</td>\n",
       "      <td>0</td>\n",
       "      <td>1</td>\n",
       "    </tr>\n",
       "  </tbody>\n",
       "</table>\n",
       "</div>"
      ],
      "text/plain": [
       "                           name  year  selling_price  km_driven  transmission  \\\n",
       "0        Maruti Swift Dzire VDI  2014         450000     145500             1   \n",
       "1  Skoda Rapid 1.5 TDI Ambition  2014         370000     120000             1   \n",
       "2      Honda City 2017-2020 EXi  2006         158000     140000             1   \n",
       "3     Hyundai i20 Sportz Diesel  2010         225000     127000             1   \n",
       "4        Maruti Swift VXI BSIII  2007         130000     120000             1   \n",
       "\n",
       "          owner     mileage  engine  max_power                    torque  \\\n",
       "0   First Owner   23.4 kmpl  1248.0      74.00            190Nm@ 2000rpm   \n",
       "1  Second Owner  21.14 kmpl  1498.0     103.52       250Nm@ 1500-2500rpm   \n",
       "2   Third Owner   17.7 kmpl  1497.0      78.00     12.7@ 2,700(kgm@ rpm)   \n",
       "3   First Owner   23.0 kmpl  1396.0      90.00  22.4 kgm at 1750-2750rpm   \n",
       "4   First Owner   16.1 kmpl  1298.0      88.20     11.5@ 4,500(kgm@ rpm)   \n",
       "\n",
       "   seats  seller_type_Individual  seller_type_Trustmark Dealer  fuel_Diesel  \\\n",
       "0    5.0                       1                             0            1   \n",
       "1    5.0                       1                             0            1   \n",
       "2    5.0                       1                             0            0   \n",
       "3    5.0                       1                             0            1   \n",
       "4    5.0                       1                             0            0   \n",
       "\n",
       "   fuel_LPG  fuel_Petrol  \n",
       "0         0            0  \n",
       "1         0            0  \n",
       "2         0            1  \n",
       "3         0            0  \n",
       "4         0            1  "
      ]
     },
     "execution_count": 8,
     "metadata": {},
     "output_type": "execute_result"
    }
   ],
   "source": [
    "data = pd.get_dummies(data, columns = ['seller_type', 'fuel'], drop_first=True)\n",
    "data.head()"
   ]
  },
  {
   "cell_type": "markdown",
   "id": "3ca5fc14-d8b0-453e-9f8b-e0fca2af9360",
   "metadata": {},
   "source": [
    "Как вы думаете, для чего drop_first? как это работает? Как ни странно, но некоторая параллель есть в фонологии (в том месте, где они ограничиваются бинарными признаками)"
   ]
  },
  {
   "cell_type": "markdown",
   "id": "5de5e718-bf25-4b05-a2e4-d8254cfbabed",
   "metadata": {},
   "source": [
    "А, еще осталось owner заменить. Тут можно накатать небольшую функцию "
   ]
  },
  {
   "cell_type": "code",
   "execution_count": 9,
   "id": "7f7785e6-f264-4967-ab84-20165268e6c9",
   "metadata": {},
   "outputs": [
    {
     "data": {
      "text/plain": [
       "array(['First Owner', 'Second Owner', 'Third Owner',\n",
       "       'Fourth & Above Owner', 'Test Drive Car'], dtype=object)"
      ]
     },
     "execution_count": 9,
     "metadata": {},
     "output_type": "execute_result"
    }
   ],
   "source": [
    "data['owner'].unique()"
   ]
  },
  {
   "cell_type": "code",
   "execution_count": null,
   "id": "7cc7c386-69df-4aa8-ad17-c6436014e933",
   "metadata": {},
   "outputs": [],
   "source": [
    "def replacer(string):\n",
    "    # your code here\n",
    "\n",
    "data['owner'] = data['owner'].apply(replacer)"
   ]
  },
  {
   "cell_type": "markdown",
   "id": "4bd60149-274d-47f4-9482-b8b4f51b03fc",
   "metadata": {},
   "source": [
    "Окей, вроде бы готово. Давайте попробуем загнать линейную регрессию. "
   ]
  },
  {
   "cell_type": "code",
   "execution_count": 11,
   "id": "787ea2c9-06b8-47c7-b741-666e0d9e6265",
   "metadata": {},
   "outputs": [],
   "source": [
    "y = data['selling_price']\n",
    "X = data.drop(['selling_price', 'name', 'mileage', 'torque'], axis=1)"
   ]
  },
  {
   "cell_type": "code",
   "execution_count": 12,
   "id": "78e3a904-e0d8-42ad-ae1c-895ea06e2975",
   "metadata": {},
   "outputs": [],
   "source": [
    "Xtrain, Xtest, ytrain, ytest = train_test_split(X, y)"
   ]
  },
  {
   "cell_type": "code",
   "execution_count": 13,
   "id": "b7b91205-0c28-462a-ab25-e2ffdfd28259",
   "metadata": {},
   "outputs": [
    {
     "name": "stdout",
     "output_type": "stream",
     "text": [
      "0.6649295201316685 0.616876259960565\n"
     ]
    }
   ],
   "source": [
    "model = LinearRegression()\n",
    "\n",
    "model.fit(Xtrain, ytrain)\n",
    "\n",
    "ypred_train = model.predict(Xtrain)\n",
    "ypred_test = model.predict(Xtest)\n",
    "\n",
    "print(r2_score(ytrain, ypred_train), r2_score(ytest, ypred_test))"
   ]
  },
  {
   "cell_type": "markdown",
   "id": "3d24ddac-faad-4a48-8822-8458f6358aab",
   "metadata": {},
   "source": [
    "Можем из интереса посмотреть веса:"
   ]
  },
  {
   "cell_type": "code",
   "execution_count": 14,
   "id": "7c90bd42-1e25-4539-9b7f-1aa0ed042644",
   "metadata": {},
   "outputs": [
    {
     "name": "stdout",
     "output_type": "stream",
     "text": [
      "year 43242.499176324534\n",
      "km_driven -0.9975230888867888\n",
      "transmission 7.73070496506989e-12\n",
      "owner -15194.006030781047\n",
      "engine 61.126941271723695\n",
      "max_power 15048.309449061167\n",
      "seats -80414.79482723569\n",
      "seller_type_Individual -346027.1715962796\n",
      "seller_type_Trustmark Dealer -354875.62862594816\n",
      "fuel_Diesel -76024.71436525947\n",
      "fuel_LPG 135154.27256726995\n",
      "fuel_Petrol -125199.85363468408\n"
     ]
    }
   ],
   "source": [
    "for a,b in zip(X.columns, model.coef_):\n",
    "    print(a,b)"
   ]
  },
  {
   "cell_type": "markdown",
   "id": "57eccad4-f21d-40e7-ad8a-223be3c6b4d3",
   "metadata": {},
   "source": [
    "Можно даже вискербокс построить"
   ]
  },
  {
   "cell_type": "code",
   "execution_count": 15,
   "id": "e0eb8bf0-6ee0-45fe-a68d-b47dc1f7b254",
   "metadata": {},
   "outputs": [
    {
     "data": {
      "text/plain": [
       "{'whiskers': [<matplotlib.lines.Line2D at 0x7fedb66d7b20>,\n",
       "  <matplotlib.lines.Line2D at 0x7fedb66d7df0>],\n",
       " 'caps': [<matplotlib.lines.Line2D at 0x7fedb66f41c0>,\n",
       "  <matplotlib.lines.Line2D at 0x7fedb66f4580>],\n",
       " 'boxes': [<matplotlib.lines.Line2D at 0x7fedb66d76d0>],\n",
       " 'medians': [<matplotlib.lines.Line2D at 0x7fedb66f4910>],\n",
       " 'fliers': [<matplotlib.lines.Line2D at 0x7fedb66f4ca0>],\n",
       " 'means': []}"
      ]
     },
     "execution_count": 15,
     "metadata": {},
     "output_type": "execute_result"
    },
    {
     "data": {
      "image/png": "[encoded data removed]",
      "text/plain": [
       "<Figure size 432x288 with 1 Axes>"
      ]
     },
     "metadata": {
      "needs_background": "light"
     },
     "output_type": "display_data"
    }
   ],
   "source": [
    "plt.boxplot(model.coef_)"
   ]
  },
  {
   "cell_type": "markdown",
   "id": "b199fd04-5ea0-40e9-9389-df150bc01118",
   "metadata": {},
   "source": [
    "Фиг знает, поможет ли нам, но почему бы не попробовать нормализовать данные? Зачем их вообще нормализовать? Немного отвлечемся от нашего датасета и посмотрим чужой, а заодно и глянем на классификацию - как правило, нормализация важнее там)"
   ]
  },
  {
   "cell_type": "code",
   "execution_count": 16,
   "id": "ec9c2db2-0ef9-46e8-b831-0fcb4b938311",
   "metadata": {},
   "outputs": [
    {
     "data": {
      "text/html": [
       "<div>\n",
       "<style scoped>\n",
       "    .dataframe tbody tr th:only-of-type {\n",
       "        vertical-align: middle;\n",
       "    }\n",
       "\n",
       "    .dataframe tbody tr th {\n",
       "        vertical-align: top;\n",
       "    }\n",
       "\n",
       "    .dataframe thead th {\n",
       "        text-align: right;\n",
       "    }\n",
       "</style>\n",
       "<table border=\"1\" class=\"dataframe\">\n",
       "  <thead>\n",
       "    <tr style=\"text-align: right;\">\n",
       "      <th></th>\n",
       "      <th>Unnamed: 0</th>\n",
       "      <th>lat</th>\n",
       "      <th>lon</th>\n",
       "      <th>class</th>\n",
       "    </tr>\n",
       "  </thead>\n",
       "  <tbody>\n",
       "    <tr>\n",
       "      <th>0</th>\n",
       "      <td>0</td>\n",
       "      <td>55.718427</td>\n",
       "      <td>37.572628</td>\n",
       "      <td>1</td>\n",
       "    </tr>\n",
       "    <tr>\n",
       "      <th>1</th>\n",
       "      <td>1</td>\n",
       "      <td>55.718749</td>\n",
       "      <td>37.573061</td>\n",
       "      <td>1</td>\n",
       "    </tr>\n",
       "    <tr>\n",
       "      <th>2</th>\n",
       "      <td>2</td>\n",
       "      <td>55.719072</td>\n",
       "      <td>37.573495</td>\n",
       "      <td>1</td>\n",
       "    </tr>\n",
       "    <tr>\n",
       "      <th>3</th>\n",
       "      <td>3</td>\n",
       "      <td>55.719394</td>\n",
       "      <td>37.573928</td>\n",
       "      <td>1</td>\n",
       "    </tr>\n",
       "    <tr>\n",
       "      <th>4</th>\n",
       "      <td>4</td>\n",
       "      <td>55.719717</td>\n",
       "      <td>37.574361</td>\n",
       "      <td>1</td>\n",
       "    </tr>\n",
       "  </tbody>\n",
       "</table>\n",
       "</div>"
      ],
      "text/plain": [
       "   Unnamed: 0        lat        lon  class\n",
       "0           0  55.718427  37.572628      1\n",
       "1           1  55.718749  37.573061      1\n",
       "2           2  55.719072  37.573495      1\n",
       "3           3  55.719394  37.573928      1\n",
       "4           4  55.719717  37.574361      1"
      ]
     },
     "execution_count": 16,
     "metadata": {},
     "output_type": "execute_result"
    }
   ],
   "source": [
    "X1 = pd.read_csv('scaler_example.csv')\n",
    "X1.head()"
   ]
  },
  {
   "cell_type": "markdown",
   "id": "82b6315c-b467-4861-8cc4-f7b68a603545",
   "metadata": {},
   "source": [
    "Посмотрим, как выглядят точки из датасета. "
   ]
  },
  {
   "cell_type": "code",
   "execution_count": 17,
   "id": "5fc6fb4c-ee05-4fe2-8b86-dcee660b9216",
   "metadata": {},
   "outputs": [
    {
     "data": {
      "text/plain": [
       "<matplotlib.collections.PathCollection at 0x7fedb65d5fd0>"
      ]
     },
     "execution_count": 17,
     "metadata": {},
     "output_type": "execute_result"
    },
    {
     "data": {
      "image/png": "[encoded data removed]",
      "text/plain": [
       "<Figure size 720x720 with 1 Axes>"
      ]
     },
     "metadata": {
      "needs_background": "light"
     },
     "output_type": "display_data"
    }
   ],
   "source": [
    "Xtrain1 = X1[['lat','lon']].values\n",
    "Ytrain1 = X1['class'].values\n",
    "\n",
    "figure(figsize=(10,10))\n",
    "scatter(Xtrain1[Ytrain1==1][:,0],Xtrain1[Ytrain1==1][:,1],color='green')\n",
    "scatter(Xtrain1[Ytrain1==0][:,0],Xtrain1[Ytrain1==0][:,1],color='red')"
   ]
  },
  {
   "cell_type": "code",
   "execution_count": 18,
   "id": "cea408d2-4f41-4686-afde-721b24783973",
   "metadata": {},
   "outputs": [
    {
     "data": {
      "image/png": "[encoded data removed]",
      "text/plain": [
       "<Figure size 720x720 with 1 Axes>"
      ]
     },
     "metadata": {
      "needs_background": "light"
     },
     "output_type": "display_data"
    }
   ],
   "source": [
    "from sklearn.svm import SVC\n",
    "\n",
    "clf = SVC(kernel='linear')\n",
    "clf.fit(Xtrain1,Ytrain1)\n",
    "\n",
    "def plot_decision_line(Xtrain, Ytrain, clf, h):\n",
    "\n",
    "    x_min, x_max = Xtrain[:,0].min()-0.01, Xtrain[:,0].max()+0.01\n",
    "    y_min, y_max = Xtrain[:,1].min()-0.01, Xtrain[:,1].max()+0.01\n",
    "    xx, yy = np.meshgrid(np.arange(x_min, x_max, h),\n",
    "                         np.arange(y_min, y_max, h))\n",
    "    Z = clf.predict(np.c_[xx.ravel(), yy.ravel()])\n",
    "    Z = Z.reshape(xx.shape)\n",
    "    plt.figure(figsize=(10,10))\n",
    "    plt.contourf(xx, yy, Z)\n",
    "\n",
    "    Ytrain = np.array(Ytrain)\n",
    "    plt.scatter(Xtrain[Ytrain==1][:,0],Xtrain[Ytrain==1][:,1],color='green')\n",
    "    plt.scatter(Xtrain[Ytrain==0][:,0],Xtrain[Ytrain==0][:,1],color='red')\n",
    "\n",
    "    a = clf.coef_[0][0]\n",
    "    b = clf.coef_[0][1]\n",
    "    c = clf.intercept_\n",
    "\n",
    "    K = -a*1./b\n",
    "    B = -c*1./b\n",
    "\n",
    "    xx0 = np.linspace(x_min, x_max)\n",
    "    yy0 = K * xx0 + B\n",
    "\n",
    "    plt.scatter(xx0,yy0)\n",
    "    plt.show()\n",
    "    \n",
    "plot_decision_line(Xtrain1, Ytrain1, clf, 0.001)"
   ]
  },
  {
   "cell_type": "markdown",
   "id": "eb0389aa-7e89-475d-8916-c646eec73678",
   "metadata": {},
   "source": [
    "Видим, что линейный классификатор (SVM) абсолютно не справился с задачей. Попробуем масштабировать данные."
   ]
  },
  {
   "cell_type": "code",
   "execution_count": 19,
   "id": "c51b96a3-85da-4ab7-99b7-511acff77305",
   "metadata": {},
   "outputs": [
    {
     "data": {
      "image/png": "[encoded data removed]",
      "text/plain": [
       "<Figure size 720x720 with 1 Axes>"
      ]
     },
     "metadata": {
      "needs_background": "light"
     },
     "output_type": "display_data"
    }
   ],
   "source": [
    "sc = StandardScaler()\n",
    "TrainScaled = sc.fit_transform(Xtrain1)\n",
    "\n",
    "clf.fit(TrainScaled,Ytrain1)\n",
    "plot_decision_line(TrainScaled, Ytrain1, clf, 0.01)"
   ]
  },
  {
   "cell_type": "markdown",
   "id": "81405f26-19c0-452a-b33f-1ca7c1c5b348",
   "metadata": {},
   "source": [
    "Тадам. Не факт, что для нашего датасета нормализация поможет, но."
   ]
  },
  {
   "cell_type": "code",
   "execution_count": 20,
   "id": "d36328bd-d3f4-4474-8f00-a686d6ca129b",
   "metadata": {},
   "outputs": [
    {
     "name": "stdout",
     "output_type": "stream",
     "text": [
      "0.6649295201316685 0.6168762599605502\n"
     ]
    }
   ],
   "source": [
    "scaler = StandardScaler().fit(Xtrain)\n",
    "Xtrain = scaler.transform(Xtrain)\n",
    "Xtest = scaler.transform(Xtest)\n",
    "\n",
    "regressor = LinearRegression()\n",
    "regressor.fit(Xtrain, ytrain)\n",
    "\n",
    "ypred_train = regressor.predict(Xtrain)\n",
    "ypred_test = regressor.predict(Xtest)\n",
    "print(r2_score(ytrain, ypred_train), r2_score(ytest, ypred_test))"
   ]
  },
  {
   "cell_type": "markdown",
   "id": "160859ee-c13c-408d-89d3-f668e96959ee",
   "metadata": {},
   "source": [
    "Вроде сильно не помогло, но мы старались\n",
    "\n",
    "Можем попробовать другой скейлер"
   ]
  },
  {
   "cell_type": "code",
   "execution_count": 21,
   "id": "db4f963b-75e7-41e3-b0d7-943fdfbaa705",
   "metadata": {},
   "outputs": [
    {
     "name": "stdout",
     "output_type": "stream",
     "text": [
      "0.6649295201316685 0.6168762599605506\n"
     ]
    }
   ],
   "source": [
    "scaler = MinMaxScaler().fit(Xtrain)\n",
    "Xtrain = scaler.transform(Xtrain)\n",
    "Xtest = scaler.transform(Xtest)\n",
    "\n",
    "regressor = LinearRegression()\n",
    "regressor.fit(Xtrain, ytrain)\n",
    "\n",
    "ypred_train = regressor.predict(Xtrain)\n",
    "ypred_test = regressor.predict(Xtest)\n",
    "print(r2_score(ytrain, ypred_train), r2_score(ytest, ypred_test))"
   ]
  },
  {
   "cell_type": "markdown",
   "id": "c64d06c1-c080-4872-b582-4990341589ed",
   "metadata": {},
   "source": [
    "Ну лан\n",
    "\n",
    "Заметьте, что все скейлеры импортируются из подмодуля preprocessing, там есть еще кой-че\n",
    "\n",
    "А еще вот это вот все можно взять и собрать в пайплайн, то есть, любые трансформации, которые мы применяем к данным, помимо модели, можно собрать в конвейер. При условии, что у них всех есть одинаковые методы (fit, predict)"
   ]
  },
  {
   "cell_type": "code",
   "execution_count": 22,
   "id": "f58dc36f-0a13-4e48-b1a3-62db060bd24d",
   "metadata": {},
   "outputs": [],
   "source": [
    "pipe = Pipeline([\n",
    "    ('scale', StandardScaler()),\n",
    "    ('model', LinearRegression())\n",
    "])"
   ]
  },
  {
   "cell_type": "markdown",
   "id": "6c7ec912-d2c1-42dc-85cf-b2fcd7c7ff05",
   "metadata": {},
   "source": [
    "Теперь это говно можно обучать, как обычную модель"
   ]
  },
  {
   "cell_type": "code",
   "execution_count": 23,
   "id": "158906bc-458f-411b-ad46-809ebac0ef31",
   "metadata": {},
   "outputs": [
    {
     "name": "stdout",
     "output_type": "stream",
     "text": [
      "0.6649295201316684 0.6168762599605506\n"
     ]
    }
   ],
   "source": [
    "pipe.fit(Xtrain, ytrain)\n",
    "\n",
    "ypred_train = pipe.predict(Xtrain)\n",
    "ypred_test = pipe.predict(Xtest)\n",
    "print(r2_score(ytrain, ypred_train), r2_score(ytest, ypred_test))"
   ]
  },
  {
   "cell_type": "markdown",
   "id": "0f20f351-b4dd-4554-b1ec-3d3d870c75d2",
   "metadata": {},
   "source": [
    "Алсо, можно запилить функцию, в которую уже передавать имена моделек и гонять сколько хочется"
   ]
  },
  {
   "cell_type": "code",
   "execution_count": 24,
   "id": "789b67ad-d3e1-471d-ac1c-8b2e8ac0cdfa",
   "metadata": {},
   "outputs": [],
   "source": [
    "def pipeliner(model):\n",
    "    pipe = Pipeline([\n",
    "    ('scale', StandardScaler()),\n",
    "    ('model', model)\n",
    "])\n",
    "    pipe.fit(Xtrain, ytrain)\n",
    "\n",
    "    ypred_train = pipe.predict(Xtrain)\n",
    "    ypred_test = pipe.predict(Xtest)\n",
    "    print(r2_score(ytrain, ypred_train), r2_score(ytest, ypred_test))"
   ]
  },
  {
   "cell_type": "code",
   "execution_count": 25,
   "id": "dd5b4e8b-be7f-43e4-92d2-4ef31ebf00bd",
   "metadata": {},
   "outputs": [
    {
     "name": "stdout",
     "output_type": "stream",
     "text": [
      "0.6649295201316684 0.6168762599605506\n",
      "0.6649295199542795 0.6168768992723096\n",
      "0.664929481001288 0.6169074312947878\n"
     ]
    }
   ],
   "source": [
    "pipeliner(LinearRegression())\n",
    "pipeliner(Lasso())\n",
    "pipeliner(Ridge())"
   ]
  },
  {
   "cell_type": "markdown",
   "id": "b7fdb3a6-042c-43e7-8b92-a73264d1d7e1",
   "metadata": {},
   "source": [
    "Можно заметить, что нормализация скейлером нивелирует почти всю разницу между лассо, риджем и обычным линрегом. Она так действует не только для них.\n",
    "\n",
    "Кстати, попробуйте погонять лассо и ридж на ненормализованных данных. Будет ли сильная разница? Почему?"
   ]
  },
  {
   "cell_type": "code",
   "execution_count": null,
   "id": "c8ddf6b1-3139-431f-9c43-89752f358021",
   "metadata": {},
   "outputs": [],
   "source": [
    "# your code here"
   ]
  },
  {
   "cell_type": "markdown",
   "id": "f1c0615e-4ee9-4930-9b04-6ee0df3f5fbc",
   "metadata": {},
   "source": [
    "Ну ок, наверное, если хотим рили улучшить качество модельки, надо все-таки фиче-инжинирингом заняться. Давайте посмотрим корреляцию признаков"
   ]
  },
  {
   "cell_type": "code",
   "execution_count": 26,
   "id": "100345e5-97a8-4702-adc6-618b8104fe25",
   "metadata": {},
   "outputs": [
    {
     "data": {
      "text/plain": [
       "<AxesSubplot:>"
      ]
     },
     "execution_count": 26,
     "metadata": {},
     "output_type": "execute_result"
    },
    {
     "data": {
      "image/png": "[encoded data removed]",
      "text/plain": [
       "<Figure size 864x648 with 2 Axes>"
      ]
     },
     "metadata": {
      "needs_background": "light"
     },
     "output_type": "display_data"
    }
   ],
   "source": [
    "plt.figure(figsize=(12,9))\n",
    "\n",
    "corr = data.corr()\n",
    "\n",
    "sns.heatmap(corr,annot=True,linewidths=.5,fmt= '.2f',\\\n",
    "            mask=np.zeros_like(corr, dtype=bool), \\\n",
    "            cmap=sns.diverging_palette(100,200,as_cmap=True), square=True)"
   ]
  },
  {
   "cell_type": "markdown",
   "id": "dfd971d1-ea10-48ed-93df-fa8efb99db8d",
   "metadata": {},
   "source": [
    "Таки что вы можете сказать по этому поводу? Выделите графу с selling_price и проанализируйте, с каким признаком она больше всего коррелирует. Посмотрите, нет ли линейно-зависимых признаков (они будут коррелировать между собой).\n",
    "\n",
    "Какие признаки можно дропнуть? Может быть, стоит добавить какой-то признак в степени? Попробуйте это сделать"
   ]
  },
  {
   "cell_type": "code",
   "execution_count": null,
   "id": "c22d0051-f46a-43c7-9508-65ea7bf6ba48",
   "metadata": {
    "tags": []
   },
   "outputs": [],
   "source": [
    "# your code here"
   ]
  }
 ],
 "metadata": {
  "kernelspec": {
   "display_name": "Python 3 (ipykernel)",
   "language": "python",
   "name": "python3"
  },
  "language_info": {
   "codemirror_mode": {
    "name": "ipython",
    "version": 3
   },
   "file_extension": ".py",
   "mimetype": "text/x-python",
   "name": "python",
   "nbconvert_exporter": "python",
   "pygments_lexer": "ipython3",
   "version": "3.8.10"
  }
 },
 "nbformat": 4,
 "nbformat_minor": 5
}
